{
 "cells": [
  {
   "cell_type": "markdown",
   "metadata": {},
   "source": [
    "### Welcome to my 2nd Web-Scrapping exercise. \n",
    "Follow the commands below and read the comments to get the idea about the program flow\n"
   ]
  },
  {
   "cell_type": "code",
   "execution_count": 2,
   "metadata": {},
   "outputs": [],
   "source": [
    "# Import relevant libraries for Python\n",
    "import requests\n",
    "import pandas as pd\n",
    "from bs4 import BeautifulSoup"
   ]
  },
  {
   "cell_type": "code",
   "execution_count": 3,
   "metadata": {},
   "outputs": [],
   "source": [
    "# Get the HTML source page\n",
    "r = requests.get('https://en.wikipedia.org/wiki/List_of_songs_recorded_by_Selena_Gomez')"
   ]
  },
  {
   "cell_type": "code",
   "execution_count": 4,
   "metadata": {},
   "outputs": [],
   "source": [
    "# Parse it\n",
    "soup = BeautifulSoup(r.text,'html.parser')"
   ]
  },
  {
   "cell_type": "code",
   "execution_count": 5,
   "metadata": {},
   "outputs": [
    {
     "data": {
      "text/plain": [
       "bs4.BeautifulSoup"
      ]
     },
     "execution_count": 5,
     "metadata": {},
     "output_type": "execute_result"
    }
   ],
   "source": [
    "# Just checking the object type of the parsed object\n",
    "type(soup)"
   ]
  },
  {
   "cell_type": "markdown",
   "metadata": {},
   "source": [
    "###### So far we have captured the content of the webpage (which is in the form of HTML) and beautified it using package 'Beautiful Soup'. This library internally arranges all the HTML elements (tags) in hirachical order and completes the incomplete tags - for easy access later."
   ]
  },
  {
   "cell_type": "code",
   "execution_count": 6,
   "metadata": {},
   "outputs": [],
   "source": [
    "# Use brower 'Developer tool' option, inspect the html content (w.r.t. web content which you are interested to scrape.)\n",
    "# Here, list of songs is in the table tag and thus I am finding the table with relevant attribute.\n",
    "table = soup.find('table', attrs={'class':\"wikitable sortable plainrowheaders\"})"
   ]
  },
  {
   "cell_type": "code",
   "execution_count": 7,
   "metadata": {},
   "outputs": [
    {
     "data": {
      "text/plain": [
       "bs4.element.Tag"
      ]
     },
     "execution_count": 7,
     "metadata": {},
     "output_type": "execute_result"
    }
   ],
   "source": [
    "type(table)\n"
   ]
  },
  {
   "cell_type": "code",
   "execution_count": 9,
   "metadata": {},
   "outputs": [],
   "source": [
    "# Extracting the rows with the help of <tr> tag\n",
    "rows = table.find_all('tr')"
   ]
  },
  {
   "cell_type": "markdown",
   "metadata": {},
   "source": [
    "###### Extract the song name (col1) wrapped under tag 'th' and creating a list of the same. Create a Pandas Series from this list."
   ]
  },
  {
   "cell_type": "code",
   "execution_count": 10,
   "metadata": {},
   "outputs": [],
   "source": [
    "songslist =[]\n",
    "for row in rows:\n",
    "    #cols = row.find_all('td')\n",
    "    #cols = [x.text.strip() for x in cols]\n",
    "    row = row.find('th').text.strip()\n",
    "    songslist.append(row)\n",
    "    \n",
    "songs = pd.Series(songslist[1:])\n",
    "    \n",
    "# commands commented in above code (begging with 'cols') can be used to extract data from other columns \n",
    "# (viz. Artist, Writer, Originating Album etc)\n"
   ]
  },
  {
   "cell_type": "code",
   "execution_count": 11,
   "metadata": {},
   "outputs": [
    {
     "data": {
      "text/plain": [
       "0    \"Already Missing You\"\n",
       "1    \"As a Blonde\" (cover)\n",
       "2    \"A Year Without Rain\"\n",
       "dtype: object"
      ]
     },
     "execution_count": 11,
     "metadata": {},
     "output_type": "execute_result"
    }
   ],
   "source": [
    "# Just to cross check that we have our required data\n",
    "songs[:3]"
   ]
  },
  {
   "cell_type": "markdown",
   "metadata": {},
   "source": [
    "###### Writing the Songs list onto the csv file"
   ]
  },
  {
   "cell_type": "code",
   "execution_count": 12,
   "metadata": {},
   "outputs": [],
   "source": [
    "songs.to_csv('E:\\\\\\Machine_Learning\\\\git\\\\Web Scrapping\\\\Song_list_SelenaGomez\\\\Selena_songs.csv', encoding='utf-8', index=False)"
   ]
  },
  {
   "cell_type": "code",
   "execution_count": null,
   "metadata": {},
   "outputs": [],
   "source": []
  }
 ],
 "metadata": {
  "kernelspec": {
   "display_name": "Python 3",
   "language": "python",
   "name": "python3"
  },
  "language_info": {
   "codemirror_mode": {
    "name": "ipython",
    "version": 3
   },
   "file_extension": ".py",
   "mimetype": "text/x-python",
   "name": "python",
   "nbconvert_exporter": "python",
   "pygments_lexer": "ipython3",
   "version": "3.6.5"
  }
 },
 "nbformat": 4,
 "nbformat_minor": 2
}
